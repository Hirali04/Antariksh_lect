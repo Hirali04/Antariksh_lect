{
  "nbformat": 4,
  "nbformat_minor": 0,
  "metadata": {
    "colab": {
      "provenance": [],
      "authorship_tag": "ABX9TyONx+iv0OXATH0jsO8b8A7w",
      "include_colab_link": true
    },
    "kernelspec": {
      "name": "python3",
      "display_name": "Python 3"
    },
    "language_info": {
      "name": "python"
    }
  },
  "cells": [
    {
      "cell_type": "markdown",
      "metadata": {
        "id": "view-in-github",
        "colab_type": "text"
      },
      "source": [
        "<a href=\"https://colab.research.google.com/github/Hirali04/Antariksh_lect/blob/main/Lect1.ipynb\" target=\"_parent\"><img src=\"https://colab.research.google.com/assets/colab-badge.svg\" alt=\"Open In Colab\"/></a>"
      ]
    },
    {
      "cell_type": "code",
      "execution_count": null,
      "metadata": {
        "colab": {
          "base_uri": "https://localhost:8080/"
        },
        "id": "X9y3zLk9ucb1",
        "outputId": "ac161076-b968-499d-d6ba-28208611a65a"
      },
      "outputs": [
        {
          "output_type": "execute_result",
          "data": {
            "text/plain": [
              "(14, -4, 45, 0.5555555555555556, 5, 1953125, 0)"
            ]
          },
          "metadata": {},
          "execution_count": 2
        }
      ],
      "source": [
        "#Datatypes:\n",
        "#Integer, float, boolean, strings, lists, set, tuple, dictionaries\n",
        "\n",
        "#Operations\n",
        "5+9, 5-9, 5*9, 5/9, 5%9, 5**9, 5//9\n",
        "\n",
        "#Precedence:\n",
        "#PEMDAS"
      ]
    },
    {
      "cell_type": "code",
      "source": [
        "a=3+7j\n",
        "print(type(a))\n",
        "print(a.real)\n",
        "print(type(a.real))\n",
        "print(a.imag)\n",
        "print(type(a.imag))\n",
        "print(abs(a))\n",
        "#a.real=int(a.real) ---> got an error, solved.\n",
        "y=a.real\n",
        "y=int(y)\n",
        "print(y)"
      ],
      "metadata": {
        "colab": {
          "base_uri": "https://localhost:8080/"
        },
        "id": "vMWIUE_QnKrL",
        "outputId": "391d0ac1-108c-436d-ac75-d52f5cf5e44f"
      },
      "execution_count": null,
      "outputs": [
        {
          "output_type": "stream",
          "name": "stdout",
          "text": [
            "<class 'complex'>\n",
            "3.0\n",
            "<class 'float'>\n",
            "7.0\n",
            "<class 'float'>\n",
            "7.615773105863909\n",
            "3\n"
          ]
        }
      ]
    },
    {
      "cell_type": "code",
      "source": [
        "# \"\"\"/''' for multiline strings\n",
        "s='Hello'\n",
        "f=56.8902j\n",
        "#we cannot concatenate string and integer/complex directly, so we typecast the integer/complex into string\n",
        "print(s,str(f))\n",
        "print('float value is {}'.format(f))\n",
        "print(f'string value is {f}')\n",
        "s1='  abc pqr xyz lmn hij  '\n",
        "print(s1.title()) #Changing first alphabet of the words to uppercase\n",
        "print(len(s1)) #calculates the length of string\n",
        "print(s1.strip()) #removes whitespace from beginning or end\n",
        "print(s1.replace('lmn', 'rst'))\n"
      ],
      "metadata": {
        "colab": {
          "base_uri": "https://localhost:8080/"
        },
        "id": "Ac8uYOqonOam",
        "outputId": "0eb82386-d607-40d1-adcd-4c7d4ef7659c"
      },
      "execution_count": null,
      "outputs": [
        {
          "output_type": "stream",
          "name": "stdout",
          "text": [
            "Hello 56.8902j\n",
            "float value is 56.8902j\n",
            "string value is 56.8902j\n",
            "  Abc Pqr Xyz Lmn Hij  \n",
            "23\n",
            "abc pqr xyz lmn hij\n",
            "  abc pqr xyz rst hij  \n"
          ]
        }
      ]
    },
    {
      "cell_type": "code",
      "source": [
        "l=s1.split() #splits the string into different list items\n",
        "print(l)\n",
        "l1=[x for x in l if 'a' in x]\n",
        "l1"
      ],
      "metadata": {
        "colab": {
          "base_uri": "https://localhost:8080/"
        },
        "id": "ybmsLazXnTDl",
        "outputId": "52a6f5ad-9991-4c84-e982-4c360fa0f1de"
      },
      "execution_count": null,
      "outputs": [
        {
          "output_type": "stream",
          "name": "stdout",
          "text": [
            "['abc', 'pqr', 'xyz', 'lmn', 'hij']\n"
          ]
        },
        {
          "output_type": "execute_result",
          "data": {
            "text/plain": [
              "['abc']"
            ]
          },
          "metadata": {},
          "execution_count": 8
        }
      ]
    },
    {
      "cell_type": "code",
      "source": [
        "li=[1,2,2,\"apple\",35.78,\"kiwi\"] #list can contain duplicates and different datatypes\n",
        "print(li[1:4:2]) #start:stop:step (stop index is not included)\n",
        "print(li[-5:-2]) #slicing using negative index\n",
        "li.append(5)\n",
        "li.remove(1)\n",
        "li.insert(1,\"orange\") #inserting an element at a specific index\n",
        "li.pop(3) #to remove an element using index\n",
        "li[2:5]=7,\"mango\",\"banana\" #changing elements at specific indices\n",
        "li"
      ],
      "metadata": {
        "colab": {
          "base_uri": "https://localhost:8080/"
        },
        "id": "oR6Hms8PnYzl",
        "outputId": "e34a2554-9b88-48ce-d6ee-1bb498186e4d"
      },
      "execution_count": null,
      "outputs": [
        {
          "output_type": "stream",
          "name": "stdout",
          "text": [
            "[2, 'apple']\n",
            "[2, 2, 'apple']\n"
          ]
        },
        {
          "output_type": "execute_result",
          "data": {
            "text/plain": [
              "[2, 'orange', 7, 'mango', 'banana', 5]"
            ]
          },
          "metadata": {},
          "execution_count": 10
        }
      ]
    },
    {
      "cell_type": "code",
      "source": [
        "li2= [4,7,6,8,3]\n",
        "li.extend(li2) #append elements from one list to another\n",
        "li.append(li2)\n",
        "li2.sort() #sorting elements in ascending order or alphabetically\n",
        "li2.reverse() #to sort list in descending order\n",
        "li2\n"
      ],
      "metadata": {
        "colab": {
          "base_uri": "https://localhost:8080/"
        },
        "id": "AdkFKJrNnfYM",
        "outputId": "e2eed9bc-b890-45d3-ef13-cc3d9de11d27"
      },
      "execution_count": null,
      "outputs": [
        {
          "output_type": "execute_result",
          "data": {
            "text/plain": [
              "[8, 7, 6, 4, 3]"
            ]
          },
          "metadata": {},
          "execution_count": 12
        }
      ]
    },
    {
      "cell_type": "code",
      "source": [
        "ls=[\"abc\", \"Xyz\", \"pqr\", \"LMN\"]\n",
        "ls.sort(key=str.lower) #since sort() is case sensitive, it sorts capital letters before lower-case\n",
        "ls"
      ],
      "metadata": {
        "colab": {
          "base_uri": "https://localhost:8080/"
        },
        "id": "T7FwuFYSnkES",
        "outputId": "507de3a6-06b3-479b-8972-bf724df5a269"
      },
      "execution_count": null,
      "outputs": [
        {
          "output_type": "execute_result",
          "data": {
            "text/plain": [
              "['abc', 'LMN', 'pqr', 'Xyz']"
            ]
          },
          "metadata": {},
          "execution_count": 13
        }
      ]
    },
    {
      "cell_type": "code",
      "source": [
        "ls2=[[1,2,3],[4,5,6],[7,8,9]] #2-D matrix\n",
        "ls2"
      ],
      "metadata": {
        "colab": {
          "base_uri": "https://localhost:8080/"
        },
        "id": "FRFIW6zLnmjU",
        "outputId": "fe2a3d10-5195-42d7-c70f-682de93cfc1a"
      },
      "execution_count": null,
      "outputs": [
        {
          "output_type": "execute_result",
          "data": {
            "text/plain": [
              "[[1, 2, 3], [4, 5, 6], [7, 8, 9]]"
            ]
          },
          "metadata": {},
          "execution_count": 15
        }
      ]
    },
    {
      "cell_type": "code",
      "source": [
        "tup=(\"cherry\",1,3,5) #immutable\n",
        "tup"
      ],
      "metadata": {
        "colab": {
          "base_uri": "https://localhost:8080/"
        },
        "id": "vwmLFlQGnq5n",
        "outputId": "a5153d63-da70-4c84-b2cd-4440da595c92"
      },
      "execution_count": null,
      "outputs": [
        {
          "output_type": "execute_result",
          "data": {
            "text/plain": [
              "('cherry', 1, 3, 5)"
            ]
          },
          "metadata": {},
          "execution_count": 16
        }
      ]
    },
    {
      "cell_type": "code",
      "source": [
        "dict={'color':{\"primary\":[\"red\",\"yellow\",\"blue\"],\"secondary\":[\"orange\",\"green\",\"violet\"]},1:\"abc\",2.0:\"pqr\"}\n",
        "dict"
      ],
      "metadata": {
        "colab": {
          "base_uri": "https://localhost:8080/"
        },
        "id": "-dbuYn52nwNk",
        "outputId": "c40f7bb4-bdf3-4b9b-c1fd-a732693928ee"
      },
      "execution_count": null,
      "outputs": [
        {
          "output_type": "execute_result",
          "data": {
            "text/plain": [
              "{'color': {'primary': ['red', 'yellow', 'blue'],\n",
              "  'secondary': ['orange', 'green', 'violet']},\n",
              " 1: 'abc',\n",
              " 2.0: 'pqr'}"
            ]
          },
          "metadata": {},
          "execution_count": 17
        }
      ]
    },
    {
      "cell_type": "code",
      "source": [
        "print(dict.keys())\n",
        "print(dict.values())"
      ],
      "metadata": {
        "colab": {
          "base_uri": "https://localhost:8080/"
        },
        "id": "159mV3rznyhj",
        "outputId": "f954479f-8778-45e0-e1a6-4cbfff481dd7"
      },
      "execution_count": null,
      "outputs": [
        {
          "output_type": "stream",
          "name": "stdout",
          "text": [
            "dict_keys(['color', 1, 2.0])\n",
            "dict_values([{'primary': ['red', 'yellow', 'blue'], 'secondary': ['orange', 'green', 'violet']}, 'abc', 'pqr'])\n"
          ]
        }
      ]
    },
    {
      "cell_type": "code",
      "source": [
        "dict['color']['secondary'][1]\n",
        "#we first enter the dict using the key 'color'; then we enter another dict using the key 'secondary'; then we enter the list using index '1'"
      ],
      "metadata": {
        "colab": {
          "base_uri": "https://localhost:8080/",
          "height": 36
        },
        "id": "9UQjDsOXn8qW",
        "outputId": "7341513d-dceb-456c-8cb3-c2794d824aa2"
      },
      "execution_count": null,
      "outputs": [
        {
          "output_type": "execute_result",
          "data": {
            "text/plain": [
              "'green'"
            ],
            "application/vnd.google.colaboratory.intrinsic+json": {
              "type": "string"
            }
          },
          "metadata": {},
          "execution_count": 19
        }
      ]
    },
    {
      "cell_type": "code",
      "source": [
        "d={}\n",
        "d[\"blue\"]='cyan'\n",
        "d['green']='aqua'\n",
        "d['grey']='cement'\n",
        "d"
      ],
      "metadata": {
        "colab": {
          "base_uri": "https://localhost:8080/"
        },
        "id": "5IzSNBpXn-8E",
        "outputId": "93093dbd-87af-4bcb-c628-b0a017d646c2"
      },
      "execution_count": null,
      "outputs": [
        {
          "output_type": "execute_result",
          "data": {
            "text/plain": [
              "{'blue': 'cyan', 'green': 'aqua', 'grey': 'cement'}"
            ]
          },
          "metadata": {},
          "execution_count": 20
        }
      ]
    },
    {
      "cell_type": "code",
      "source": [
        "for k,v in d.items(): #if we use a single variable it prints only the keys\n",
        "    print(k)\n",
        "    print(v)"
      ],
      "metadata": {
        "colab": {
          "base_uri": "https://localhost:8080/"
        },
        "id": "VIqc9JPxoCYy",
        "outputId": "b121a91f-1490-464f-8317-835c50de9d63"
      },
      "execution_count": null,
      "outputs": [
        {
          "output_type": "stream",
          "name": "stdout",
          "text": [
            "blue\n",
            "cyan\n",
            "green\n",
            "aqua\n",
            "grey\n",
            "cement\n"
          ]
        }
      ]
    },
    {
      "cell_type": "code",
      "source": [
        "print(d.items())\n",
        "type(d.items())\n"
      ],
      "metadata": {
        "colab": {
          "base_uri": "https://localhost:8080/"
        },
        "id": "KP4xSOfAoFME",
        "outputId": "d15385b5-bba1-4f18-b6f2-b45ae2c949ac"
      },
      "execution_count": null,
      "outputs": [
        {
          "output_type": "stream",
          "name": "stdout",
          "text": [
            "dict_items([('blue', 'cyan'), ('green', 'aqua'), ('grey', 'cement')])\n"
          ]
        },
        {
          "output_type": "execute_result",
          "data": {
            "text/plain": [
              "dict_items"
            ]
          },
          "metadata": {},
          "execution_count": 23
        }
      ]
    },
    {
      "cell_type": "code",
      "source": [
        "dict[1]='xyz'\n",
        "dict"
      ],
      "metadata": {
        "colab": {
          "base_uri": "https://localhost:8080/"
        },
        "id": "5phsn72RoKcM",
        "outputId": "3fdc211a-d11f-4747-9c7c-df70131444a8"
      },
      "execution_count": null,
      "outputs": [
        {
          "output_type": "execute_result",
          "data": {
            "text/plain": [
              "{'color': {'primary': ['red', 'yellow', 'blue'],\n",
              "  'secondary': ['orange', 'green', 'violet']},\n",
              " 1: 'xyz',\n",
              " 2.0: 'pqr'}"
            ]
          },
          "metadata": {},
          "execution_count": 24
        }
      ]
    },
    {
      "cell_type": "code",
      "source": [
        "dict[3]='lmn'\n",
        "dict"
      ],
      "metadata": {
        "colab": {
          "base_uri": "https://localhost:8080/"
        },
        "id": "nNS0YPyyoMLG",
        "outputId": "8237d39a-cce8-48e7-fb7a-79311fa324f3"
      },
      "execution_count": null,
      "outputs": [
        {
          "output_type": "execute_result",
          "data": {
            "text/plain": [
              "{'color': {'primary': ['red', 'yellow', 'blue'],\n",
              "  'secondary': ['orange', 'green', 'violet']},\n",
              " 1: 'xyz',\n",
              " 2.0: 'pqr',\n",
              " 3: 'lmn'}"
            ]
          },
          "metadata": {},
          "execution_count": 25
        }
      ]
    },
    {
      "cell_type": "code",
      "source": [
        "d.update(dict) #adding one dict to another\n",
        "d"
      ],
      "metadata": {
        "colab": {
          "base_uri": "https://localhost:8080/"
        },
        "id": "8fn-EGCooQOR",
        "outputId": "be8ea4b9-8d25-4d22-b8f8-bee5ac1eb363"
      },
      "execution_count": null,
      "outputs": [
        {
          "output_type": "execute_result",
          "data": {
            "text/plain": [
              "{'blue': 'cyan',\n",
              " 'green': 'aqua',\n",
              " 'grey': 'cement',\n",
              " 'color': {'primary': ['red', 'yellow', 'blue'],\n",
              "  'secondary': ['orange', 'green', 'violet']},\n",
              " 1: 'xyz',\n",
              " 2.0: 'pqr',\n",
              " 3: 'lmn'}"
            ]
          },
          "metadata": {},
          "execution_count": 26
        }
      ]
    },
    {
      "cell_type": "code",
      "source": [
        "s={1,2,3,4,5} #set\n",
        "s1={1,2,3,3,4} #duplicates are not allowed\n",
        "s1"
      ],
      "metadata": {
        "colab": {
          "base_uri": "https://localhost:8080/"
        },
        "id": "en4NVETkoUZH",
        "outputId": "cd345506-9fd6-4399-ef06-57f1a020d869"
      },
      "execution_count": null,
      "outputs": [
        {
          "output_type": "execute_result",
          "data": {
            "text/plain": [
              "{1, 2, 3, 4}"
            ]
          },
          "metadata": {},
          "execution_count": 27
        }
      ]
    },
    {
      "cell_type": "code",
      "source": [
        "s1.add(6)\n",
        "s1"
      ],
      "metadata": {
        "colab": {
          "base_uri": "https://localhost:8080/"
        },
        "id": "x2cU0pLgoZk9",
        "outputId": "2b55152c-8c4b-45ca-f775-0e3090ea43cc"
      },
      "execution_count": null,
      "outputs": [
        {
          "output_type": "execute_result",
          "data": {
            "text/plain": [
              "{1, 2, 3, 4, 6}"
            ]
          },
          "metadata": {},
          "execution_count": 28
        }
      ]
    },
    {
      "cell_type": "code",
      "source": [
        "s1.remove(2)\n",
        "s1"
      ],
      "metadata": {
        "colab": {
          "base_uri": "https://localhost:8080/"
        },
        "id": "U3NWuPFdocQG",
        "outputId": "4eb5a697-d495-4049-a074-555f79e4ad74"
      },
      "execution_count": null,
      "outputs": [
        {
          "output_type": "execute_result",
          "data": {
            "text/plain": [
              "{1, 3, 4, 6}"
            ]
          },
          "metadata": {},
          "execution_count": 29
        }
      ]
    },
    {
      "cell_type": "code",
      "source": [
        "z=s.intersection(s1)\n",
        "z"
      ],
      "metadata": {
        "colab": {
          "base_uri": "https://localhost:8080/"
        },
        "id": "0bVewQttoeYU",
        "outputId": "168d7be0-6cdf-496f-a230-ab1d6631233a"
      },
      "execution_count": null,
      "outputs": [
        {
          "output_type": "execute_result",
          "data": {
            "text/plain": [
              "{1, 3, 4}"
            ]
          },
          "metadata": {},
          "execution_count": 30
        }
      ]
    },
    {
      "cell_type": "code",
      "source": [
        "s.update(s1)\n",
        "s"
      ],
      "metadata": {
        "colab": {
          "base_uri": "https://localhost:8080/"
        },
        "id": "W8jVNtJeolTT",
        "outputId": "aea2da2e-fb92-4daf-f0de-7ac70f672cdb"
      },
      "execution_count": null,
      "outputs": [
        {
          "output_type": "execute_result",
          "data": {
            "text/plain": [
              "{1, 2, 3, 4, 5, 6}"
            ]
          },
          "metadata": {},
          "execution_count": 31
        }
      ]
    }
  ]
}