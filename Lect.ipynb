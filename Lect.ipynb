{
  "nbformat": 4,
  "nbformat_minor": 0,
  "metadata": {
    "colab": {
      "provenance": [],
      "authorship_tag": "ABX9TyPZa/b26lEgTAO9ok065sbG",
      "include_colab_link": true
    },
    "kernelspec": {
      "name": "python3",
      "display_name": "Python 3"
    },
    "language_info": {
      "name": "python"
    }
  },
  "cells": [
    {
      "cell_type": "markdown",
      "metadata": {
        "id": "view-in-github",
        "colab_type": "text"
      },
      "source": [
        "<a href=\"https://colab.research.google.com/github/Hirali04/Antariksh_lect/blob/main/Lect.ipynb\" target=\"_parent\"><img src=\"https://colab.research.google.com/assets/colab-badge.svg\" alt=\"Open In Colab\"/></a>"
      ]
    },
    {
      "cell_type": "code",
      "execution_count": null,
      "metadata": {
        "colab": {
          "base_uri": "https://localhost:8080/"
        },
        "id": "X9y3zLk9ucb1",
        "outputId": "ac161076-b968-499d-d6ba-28208611a65a"
      },
      "outputs": [
        {
          "output_type": "execute_result",
          "data": {
            "text/plain": [
              "(14, -4, 45, 0.5555555555555556, 5, 1953125, 0)"
            ]
          },
          "metadata": {},
          "execution_count": 2
        }
      ],
      "source": [
        "#Datatypes:\n",
        "#Integer, float, boolean, strings, lists, set, tuple, dictionaries\n",
        "\n",
        "#Operations\n",
        "5+9, 5-9, 5*9, 5/9, 5%9, 5**9, 5//9\n",
        "\n",
        "#Precedence:\n",
        "#PEMDAS"
      ]
    },
    {
      "cell_type": "code",
      "source": [
        "a=3+7j\n",
        "print(type(a))\n",
        "print(a.real)\n",
        "print(type(a.real))\n",
        "print(a.imag)\n",
        "print(type(a.imag))\n",
        "print(abs(a))\n",
        "#a.real=int(a.real) ---> got an error, solved.\n",
        "y=a.real\n",
        "y=int(y)\n",
        "print(y)"
      ],
      "metadata": {
        "colab": {
          "base_uri": "https://localhost:8080/"
        },
        "id": "vMWIUE_QnKrL",
        "outputId": "391d0ac1-108c-436d-ac75-d52f5cf5e44f"
      },
      "execution_count": null,
      "outputs": [
        {
          "output_type": "stream",
          "name": "stdout",
          "text": [
            "<class 'complex'>\n",
            "3.0\n",
            "<class 'float'>\n",
            "7.0\n",
            "<class 'float'>\n",
            "7.615773105863909\n",
            "3\n"
          ]
        }
      ]
    },
    {
      "cell_type": "code",
      "source": [
        "# \"\"\"/''' for multiline strings\n",
        "s='Hello'\n",
        "f=56.8902j\n",
        "#we cannot concatenate string and integer/complex directly, so we typecast the integer/complex into string\n",
        "print(s,str(f))\n",
        "print('float value is {}'.format(f))\n",
        "print(f'string value is {f}')\n",
        "s1='  abc pqr xyz lmn hij  '\n",
        "print(s1.title()) #Changing first alphabet of the words to uppercase\n",
        "print(len(s1)) #calculates the length of string\n",
        "print(s1.strip()) #removes whitespace from beginning or end\n",
        "print(s1.replace('lmn', 'rst'))\n"
      ],
      "metadata": {
        "colab": {
          "base_uri": "https://localhost:8080/"
        },
        "id": "Ac8uYOqonOam",
        "outputId": "0eb82386-d607-40d1-adcd-4c7d4ef7659c"
      },
      "execution_count": null,
      "outputs": [
        {
          "output_type": "stream",
          "name": "stdout",
          "text": [
            "Hello 56.8902j\n",
            "float value is 56.8902j\n",
            "string value is 56.8902j\n",
            "  Abc Pqr Xyz Lmn Hij  \n",
            "23\n",
            "abc pqr xyz lmn hij\n",
            "  abc pqr xyz rst hij  \n"
          ]
        }
      ]
    },
    {
      "cell_type": "code",
      "source": [
        "l=s1.split() #splits the string into different list items\n",
        "print(l)\n",
        "l1=[x for x in l if 'a' in x]\n",
        "l1"
      ],
      "metadata": {
        "colab": {
          "base_uri": "https://localhost:8080/"
        },
        "id": "ybmsLazXnTDl",
        "outputId": "52a6f5ad-9991-4c84-e982-4c360fa0f1de"
      },
      "execution_count": null,
      "outputs": [
        {
          "output_type": "stream",
          "name": "stdout",
          "text": [
            "['abc', 'pqr', 'xyz', 'lmn', 'hij']\n"
          ]
        },
        {
          "output_type": "execute_result",
          "data": {
            "text/plain": [
              "['abc']"
            ]
          },
          "metadata": {},
          "execution_count": 8
        }
      ]
    },
    {
      "cell_type": "code",
      "source": [
        "li=[1,2,2,\"apple\",35.78,\"kiwi\"] #list can contain duplicates and different datatypes\n",
        "print(li[1:4:2]) #start:stop:step (stop index is not included)\n",
        "print(li[-5:-2]) #slicing using negative index\n",
        "li.append(5)\n",
        "li.remove(1)\n",
        "li.insert(1,\"orange\") #inserting an element at a specific index\n",
        "li.pop(3) #to remove an element using index\n",
        "li[2:5]=7,\"mango\",\"banana\" #changing elements at specific indices\n",
        "li"
      ],
      "metadata": {
        "colab": {
          "base_uri": "https://localhost:8080/"
        },
        "id": "oR6Hms8PnYzl",
        "outputId": "e34a2554-9b88-48ce-d6ee-1bb498186e4d"
      },
      "execution_count": null,
      "outputs": [
        {
          "output_type": "stream",
          "name": "stdout",
          "text": [
            "[2, 'apple']\n",
            "[2, 2, 'apple']\n"
          ]
        },
        {
          "output_type": "execute_result",
          "data": {
            "text/plain": [
              "[2, 'orange', 7, 'mango', 'banana', 5]"
            ]
          },
          "metadata": {},
          "execution_count": 10
        }
      ]
    },
    {
      "cell_type": "code",
      "source": [
        "li2= [4,7,6,8,3]\n",
        "li.extend(li2) #append elements from one list to another\n",
        "li.append(li2)\n",
        "li2.sort() #sorting elements in ascending order or alphabetically\n",
        "li2.reverse() #to sort list in descending order\n",
        "li2\n"
      ],
      "metadata": {
        "colab": {
          "base_uri": "https://localhost:8080/"
        },
        "id": "AdkFKJrNnfYM",
        "outputId": "e2eed9bc-b890-45d3-ef13-cc3d9de11d27"
      },
      "execution_count": null,
      "outputs": [
        {
          "output_type": "execute_result",
          "data": {
            "text/plain": [
              "[8, 7, 6, 4, 3]"
            ]
          },
          "metadata": {},
          "execution_count": 12
        }
      ]
    },
    {
      "cell_type": "code",
      "source": [
        "ls=[\"abc\", \"Xyz\", \"pqr\", \"LMN\"]\n",
        "ls.sort(key=str.lower) #since sort() is case sensitive, it sorts capital letters before lower-case\n",
        "ls"
      ],
      "metadata": {
        "colab": {
          "base_uri": "https://localhost:8080/"
        },
        "id": "T7FwuFYSnkES",
        "outputId": "507de3a6-06b3-479b-8972-bf724df5a269"
      },
      "execution_count": null,
      "outputs": [
        {
          "output_type": "execute_result",
          "data": {
            "text/plain": [
              "['abc', 'LMN', 'pqr', 'Xyz']"
            ]
          },
          "metadata": {},
          "execution_count": 13
        }
      ]
    },
    {
      "cell_type": "code",
      "source": [
        "ls2=[[1,2,3],[4,5,6],[7,8,9]] #2-D matrix\n",
        "ls2"
      ],
      "metadata": {
        "colab": {
          "base_uri": "https://localhost:8080/"
        },
        "id": "FRFIW6zLnmjU",
        "outputId": "fe2a3d10-5195-42d7-c70f-682de93cfc1a"
      },
      "execution_count": null,
      "outputs": [
        {
          "output_type": "execute_result",
          "data": {
            "text/plain": [
              "[[1, 2, 3], [4, 5, 6], [7, 8, 9]]"
            ]
          },
          "metadata": {},
          "execution_count": 15
        }
      ]
    },
    {
      "cell_type": "code",
      "source": [
        "tup=(\"cherry\",1,3,5) #immutable\n",
        "tup"
      ],
      "metadata": {
        "colab": {
          "base_uri": "https://localhost:8080/"
        },
        "id": "vwmLFlQGnq5n",
        "outputId": "a5153d63-da70-4c84-b2cd-4440da595c92"
      },
      "execution_count": null,
      "outputs": [
        {
          "output_type": "execute_result",
          "data": {
            "text/plain": [
              "('cherry', 1, 3, 5)"
            ]
          },
          "metadata": {},
          "execution_count": 16
        }
      ]
    },
    {
      "cell_type": "code",
      "source": [
        "dict={'color':{\"primary\":[\"red\",\"yellow\",\"blue\"],\"secondary\":[\"orange\",\"green\",\"violet\"]},1:\"abc\",2.0:\"pqr\"}\n",
        "dict"
      ],
      "metadata": {
        "colab": {
          "base_uri": "https://localhost:8080/"
        },
        "id": "-dbuYn52nwNk",
        "outputId": "c40f7bb4-bdf3-4b9b-c1fd-a732693928ee"
      },
      "execution_count": null,
      "outputs": [
        {
          "output_type": "execute_result",
          "data": {
            "text/plain": [
              "{'color': {'primary': ['red', 'yellow', 'blue'],\n",
              "  'secondary': ['orange', 'green', 'violet']},\n",
              " 1: 'abc',\n",
              " 2.0: 'pqr'}"
            ]
          },
          "metadata": {},
          "execution_count": 17
        }
      ]
    },
    {
      "cell_type": "code",
      "source": [
        "print(dict.keys())\n",
        "print(dict.values())"
      ],
      "metadata": {
        "colab": {
          "base_uri": "https://localhost:8080/"
        },
        "id": "159mV3rznyhj",
        "outputId": "f954479f-8778-45e0-e1a6-4cbfff481dd7"
      },
      "execution_count": null,
      "outputs": [
        {
          "output_type": "stream",
          "name": "stdout",
          "text": [
            "dict_keys(['color', 1, 2.0])\n",
            "dict_values([{'primary': ['red', 'yellow', 'blue'], 'secondary': ['orange', 'green', 'violet']}, 'abc', 'pqr'])\n"
          ]
        }
      ]
    },
    {
      "cell_type": "code",
      "source": [
        "dict['color']['secondary'][1]\n",
        "#we first enter the dict using the key 'color'; then we enter another dict using the key 'secondary'; then we enter the list using index '1'"
      ],
      "metadata": {
        "colab": {
          "base_uri": "https://localhost:8080/",
          "height": 36
        },
        "id": "9UQjDsOXn8qW",
        "outputId": "7341513d-dceb-456c-8cb3-c2794d824aa2"
      },
      "execution_count": null,
      "outputs": [
        {
          "output_type": "execute_result",
          "data": {
            "text/plain": [
              "'green'"
            ],
            "application/vnd.google.colaboratory.intrinsic+json": {
              "type": "string"
            }
          },
          "metadata": {},
          "execution_count": 19
        }
      ]
    },
    {
      "cell_type": "code",
      "source": [
        "d={}\n",
        "d[\"blue\"]='cyan'\n",
        "d['green']='aqua'\n",
        "d['grey']='cement'\n",
        "d"
      ],
      "metadata": {
        "colab": {
          "base_uri": "https://localhost:8080/"
        },
        "id": "5IzSNBpXn-8E",
        "outputId": "93093dbd-87af-4bcb-c628-b0a017d646c2"
      },
      "execution_count": null,
      "outputs": [
        {
          "output_type": "execute_result",
          "data": {
            "text/plain": [
              "{'blue': 'cyan', 'green': 'aqua', 'grey': 'cement'}"
            ]
          },
          "metadata": {},
          "execution_count": 20
        }
      ]
    },
    {
      "cell_type": "code",
      "source": [
        "for k,v in d.items(): #if we use a single variable it prints only the keys\n",
        "    print(k)\n",
        "    print(v)"
      ],
      "metadata": {
        "colab": {
          "base_uri": "https://localhost:8080/"
        },
        "id": "VIqc9JPxoCYy",
        "outputId": "b121a91f-1490-464f-8317-835c50de9d63"
      },
      "execution_count": null,
      "outputs": [
        {
          "output_type": "stream",
          "name": "stdout",
          "text": [
            "blue\n",
            "cyan\n",
            "green\n",
            "aqua\n",
            "grey\n",
            "cement\n"
          ]
        }
      ]
    },
    {
      "cell_type": "code",
      "source": [
        "print(d.items())\n",
        "type(d.items())\n"
      ],
      "metadata": {
        "colab": {
          "base_uri": "https://localhost:8080/"
        },
        "id": "KP4xSOfAoFME",
        "outputId": "d15385b5-bba1-4f18-b6f2-b45ae2c949ac"
      },
      "execution_count": null,
      "outputs": [
        {
          "output_type": "stream",
          "name": "stdout",
          "text": [
            "dict_items([('blue', 'cyan'), ('green', 'aqua'), ('grey', 'cement')])\n"
          ]
        },
        {
          "output_type": "execute_result",
          "data": {
            "text/plain": [
              "dict_items"
            ]
          },
          "metadata": {},
          "execution_count": 23
        }
      ]
    },
    {
      "cell_type": "code",
      "source": [
        "dict[1]='xyz'\n",
        "dict"
      ],
      "metadata": {
        "colab": {
          "base_uri": "https://localhost:8080/"
        },
        "id": "5phsn72RoKcM",
        "outputId": "3fdc211a-d11f-4747-9c7c-df70131444a8"
      },
      "execution_count": null,
      "outputs": [
        {
          "output_type": "execute_result",
          "data": {
            "text/plain": [
              "{'color': {'primary': ['red', 'yellow', 'blue'],\n",
              "  'secondary': ['orange', 'green', 'violet']},\n",
              " 1: 'xyz',\n",
              " 2.0: 'pqr'}"
            ]
          },
          "metadata": {},
          "execution_count": 24
        }
      ]
    },
    {
      "cell_type": "code",
      "source": [
        "dict[3]='lmn'\n",
        "dict"
      ],
      "metadata": {
        "colab": {
          "base_uri": "https://localhost:8080/"
        },
        "id": "nNS0YPyyoMLG",
        "outputId": "8237d39a-cce8-48e7-fb7a-79311fa324f3"
      },
      "execution_count": null,
      "outputs": [
        {
          "output_type": "execute_result",
          "data": {
            "text/plain": [
              "{'color': {'primary': ['red', 'yellow', 'blue'],\n",
              "  'secondary': ['orange', 'green', 'violet']},\n",
              " 1: 'xyz',\n",
              " 2.0: 'pqr',\n",
              " 3: 'lmn'}"
            ]
          },
          "metadata": {},
          "execution_count": 25
        }
      ]
    },
    {
      "cell_type": "code",
      "source": [
        "d.update(dict) #adding one dict to another\n",
        "d"
      ],
      "metadata": {
        "colab": {
          "base_uri": "https://localhost:8080/"
        },
        "id": "8fn-EGCooQOR",
        "outputId": "be8ea4b9-8d25-4d22-b8f8-bee5ac1eb363"
      },
      "execution_count": null,
      "outputs": [
        {
          "output_type": "execute_result",
          "data": {
            "text/plain": [
              "{'blue': 'cyan',\n",
              " 'green': 'aqua',\n",
              " 'grey': 'cement',\n",
              " 'color': {'primary': ['red', 'yellow', 'blue'],\n",
              "  'secondary': ['orange', 'green', 'violet']},\n",
              " 1: 'xyz',\n",
              " 2.0: 'pqr',\n",
              " 3: 'lmn'}"
            ]
          },
          "metadata": {},
          "execution_count": 26
        }
      ]
    },
    {
      "cell_type": "code",
      "source": [
        "s={1,2,3,4,5} #set\n",
        "s1={1,2,3,3,4} #duplicates are not allowed\n",
        "s1"
      ],
      "metadata": {
        "colab": {
          "base_uri": "https://localhost:8080/"
        },
        "id": "en4NVETkoUZH",
        "outputId": "cd345506-9fd6-4399-ef06-57f1a020d869"
      },
      "execution_count": null,
      "outputs": [
        {
          "output_type": "execute_result",
          "data": {
            "text/plain": [
              "{1, 2, 3, 4}"
            ]
          },
          "metadata": {},
          "execution_count": 27
        }
      ]
    },
    {
      "cell_type": "code",
      "source": [
        "s1.add(6)\n",
        "s1"
      ],
      "metadata": {
        "colab": {
          "base_uri": "https://localhost:8080/"
        },
        "id": "x2cU0pLgoZk9",
        "outputId": "2b55152c-8c4b-45ca-f775-0e3090ea43cc"
      },
      "execution_count": null,
      "outputs": [
        {
          "output_type": "execute_result",
          "data": {
            "text/plain": [
              "{1, 2, 3, 4, 6}"
            ]
          },
          "metadata": {},
          "execution_count": 28
        }
      ]
    },
    {
      "cell_type": "code",
      "source": [
        "s1.remove(2)\n",
        "s1"
      ],
      "metadata": {
        "colab": {
          "base_uri": "https://localhost:8080/"
        },
        "id": "U3NWuPFdocQG",
        "outputId": "4eb5a697-d495-4049-a074-555f79e4ad74"
      },
      "execution_count": null,
      "outputs": [
        {
          "output_type": "execute_result",
          "data": {
            "text/plain": [
              "{1, 3, 4, 6}"
            ]
          },
          "metadata": {},
          "execution_count": 29
        }
      ]
    },
    {
      "cell_type": "code",
      "source": [
        "z=s.intersection(s1)\n",
        "z"
      ],
      "metadata": {
        "colab": {
          "base_uri": "https://localhost:8080/"
        },
        "id": "0bVewQttoeYU",
        "outputId": "168d7be0-6cdf-496f-a230-ab1d6631233a"
      },
      "execution_count": null,
      "outputs": [
        {
          "output_type": "execute_result",
          "data": {
            "text/plain": [
              "{1, 3, 4}"
            ]
          },
          "metadata": {},
          "execution_count": 30
        }
      ]
    },
    {
      "cell_type": "code",
      "source": [
        "s.update(s1)\n",
        "s"
      ],
      "metadata": {
        "id": "W8jVNtJeolTT"
      },
      "execution_count": null,
      "outputs": []
    },
    {
      "cell_type": "code",
      "source": [
        "#logic for leap year: 1.multipe of 400 2.multiple of 4 and not 100\n",
        "year=2000\n",
        "if year % 4 == 0:\n",
        "  if year % 100 == 0:\n",
        "    if year % 400 == 0:\n",
        "      print(year, 'is a leap year')\n",
        "    else:\n",
        "      print(year, ' is not a leap year')\n",
        "  else:\n",
        "    print(year, 'is a leap year')\n",
        "else:\n",
        "  print(year, 'is not a leap year')\n",
        "\n",
        "  #checks if the yar is divisible by 4, if yes then it checks if the year is divisible by 100, if yes then it checks if the year is divisible by 400 if yes then its a leap year."
      ],
      "metadata": {
        "colab": {
          "base_uri": "https://localhost:8080/"
        },
        "id": "ksqPNqNiS4ts",
        "outputId": "cb412cb8-8683-4e79-bbdd-b05b06881442"
      },
      "execution_count": null,
      "outputs": [
        {
          "output_type": "stream",
          "name": "stdout",
          "text": [
            "2000 is a leap year\n"
          ]
        }
      ]
    },
    {
      "cell_type": "code",
      "source": [
        "li = ['abc','pqr','xyz','lmn']\n",
        "for x in li:\n",
        "  if 'a' in x:\n",
        "    print(x)"
      ],
      "metadata": {
        "colab": {
          "base_uri": "https://localhost:8080/"
        },
        "id": "vWMVHAOHVduW",
        "outputId": "5632146b-9ce8-48a6-eb2e-6cad8e17df65"
      },
      "execution_count": null,
      "outputs": [
        {
          "output_type": "stream",
          "name": "stdout",
          "text": [
            "abc\n"
          ]
        }
      ]
    },
    {
      "cell_type": "code",
      "source": [
        "a=10\n",
        "b=20\n",
        "c=90\n",
        "#method 1\n",
        "if(b>a and b>c):\n",
        "  print(\"max is \", b)\n",
        "elif(c>a):             #works same as else if\n",
        "  print('max is ',c)\n",
        "else:\n",
        "  print('max is ',a)\n",
        "\n",
        "#method 2\n",
        "print(max(a,b,c))"
      ],
      "metadata": {
        "colab": {
          "base_uri": "https://localhost:8080/"
        },
        "id": "dbv6gnysWqUl",
        "outputId": "390109f5-5727-4ad9-eb85-baf3863a53d2"
      },
      "execution_count": null,
      "outputs": [
        {
          "output_type": "stream",
          "name": "stdout",
          "text": [
            "max is  90\n",
            "90\n"
          ]
        }
      ]
    },
    {
      "cell_type": "code",
      "source": [
        "i=1\n",
        "while i<6:\n",
        "  print(i)\n",
        "  i+=1\n"
      ],
      "metadata": {
        "colab": {
          "base_uri": "https://localhost:8080/"
        },
        "id": "5-WKPeebX0Ls",
        "outputId": "fb17729b-b1fb-4fe6-f263-946c62fe0598"
      },
      "execution_count": null,
      "outputs": [
        {
          "output_type": "stream",
          "name": "stdout",
          "text": [
            "1\n",
            "2\n",
            "3\n",
            "4\n",
            "5\n"
          ]
        }
      ]
    },
    {
      "cell_type": "code",
      "source": [
        "d={'apple','mango','cherry','banana'}\n",
        "for x in d:\n",
        "  if x=='mango':\n",
        "    continue  #skips that iteration and goes to the next one\n",
        "  else:\n",
        "    print(x)"
      ],
      "metadata": {
        "colab": {
          "base_uri": "https://localhost:8080/"
        },
        "id": "ds9gLS7xYHaP",
        "outputId": "0357c3b0-03f2-4d01-f45e-58b80b5e83e0"
      },
      "execution_count": null,
      "outputs": [
        {
          "output_type": "stream",
          "name": "stdout",
          "text": [
            "apple\n",
            "cherry\n",
            "banana\n"
          ]
        }
      ]
    },
    {
      "cell_type": "code",
      "source": [
        "d={'apple','mango','cherry','banana'}\n",
        "for x in d:\n",
        "  if x=='mango':\n",
        "    break  #comes out of the loop\n",
        "  else:\n",
        "    print(x)"
      ],
      "metadata": {
        "colab": {
          "base_uri": "https://localhost:8080/"
        },
        "id": "aKc-D43tZBuu",
        "outputId": "05964c6f-033a-4f7a-8d18-3c36092ceccd"
      },
      "execution_count": null,
      "outputs": [
        {
          "output_type": "stream",
          "name": "stdout",
          "text": [
            "apple\n"
          ]
        }
      ]
    },
    {
      "cell_type": "code",
      "source": [
        "l=[1,2,3,4,5,6]\n",
        "for x in range(len(l)):\n",
        "  print(x, end=' ')\n",
        "  print(l[x])\n",
        "  #this is beacuse the range goes from 0 to 6; in which 6 is not included wheareas while printing l[x] it prints elemnts at index 0 to 5"
      ],
      "metadata": {
        "colab": {
          "base_uri": "https://localhost:8080/"
        },
        "id": "8ANQQYpgZQDW",
        "outputId": "ed5abd69-e8ad-456a-8b69-c5cc4d845219"
      },
      "execution_count": null,
      "outputs": [
        {
          "output_type": "stream",
          "name": "stdout",
          "text": [
            "0 1\n",
            "1 2\n",
            "2 3\n",
            "3 4\n",
            "4 5\n",
            "5 6\n"
          ]
        }
      ]
    },
    {
      "cell_type": "code",
      "source": [
        "for x in l:\n",
        "  pass      #to have a for loop with no content"
      ],
      "metadata": {
        "id": "SIEmAMAOaP1-"
      },
      "execution_count": null,
      "outputs": []
    },
    {
      "cell_type": "code",
      "source": [
        "for x in d:\n",
        "  for y in l:\n",
        "    print(x,y)"
      ],
      "metadata": {
        "colab": {
          "base_uri": "https://localhost:8080/"
        },
        "id": "65DPeW90ajfm",
        "outputId": "a7da2065-3a72-40a3-d7aa-724fb4829fa5"
      },
      "execution_count": null,
      "outputs": [
        {
          "output_type": "stream",
          "name": "stdout",
          "text": [
            "apple 1\n",
            "apple 2\n",
            "apple 3\n",
            "apple 4\n",
            "apple 5\n",
            "apple 6\n",
            "mango 1\n",
            "mango 2\n",
            "mango 3\n",
            "mango 4\n",
            "mango 5\n",
            "mango 6\n",
            "cherry 1\n",
            "cherry 2\n",
            "cherry 3\n",
            "cherry 4\n",
            "cherry 5\n",
            "cherry 6\n",
            "banana 1\n",
            "banana 2\n",
            "banana 3\n",
            "banana 4\n",
            "banana 5\n",
            "banana 6\n"
          ]
        }
      ]
    },
    {
      "cell_type": "code",
      "source": [
        "for i in range(3,0,-1):  #start, stop, step\n",
        "  for j in range(1,i+1):\n",
        "    print(j,end=' ')\n",
        "  print('\\n')\n"
      ],
      "metadata": {
        "colab": {
          "base_uri": "https://localhost:8080/"
        },
        "id": "5cc7wvEtaz4w",
        "outputId": "869d1f57-021a-4a81-e40f-d97d8286d216"
      },
      "execution_count": null,
      "outputs": [
        {
          "output_type": "stream",
          "name": "stdout",
          "text": [
            "1 2 3 \n",
            "\n",
            "1 2 \n",
            "\n",
            "1 \n",
            "\n"
          ]
        }
      ]
    },
    {
      "cell_type": "code",
      "source": [
        "def func(a,b):\n",
        " return a*b\n",
        "\n",
        "x=func(5,10)\n",
        "print(x)\n"
      ],
      "metadata": {
        "colab": {
          "base_uri": "https://localhost:8080/"
        },
        "id": "oLzMxgyocESJ",
        "outputId": "11708229-95c6-4d96-982b-1100b7f80446"
      },
      "execution_count": null,
      "outputs": [
        {
          "output_type": "stream",
          "name": "stdout",
          "text": [
            "50\n"
          ]
        }
      ]
    },
    {
      "cell_type": "code",
      "source": [
        "def calc(a,b,o):\n",
        "  if o=='+':\n",
        "    return a+b\n",
        "  elif o=='-':\n",
        "    return a-b\n",
        "  elif o=='*':\n",
        "    return a*b\n",
        "  elif o=='/':\n",
        "    return a/b\n",
        "x=calc(5,3,'-')\n",
        "print(x)"
      ],
      "metadata": {
        "colab": {
          "base_uri": "https://localhost:8080/"
        },
        "id": "RbQtwWYnjZpT",
        "outputId": "03ea9e89-dd1f-4b06-91c7-ed6c52ad432f"
      },
      "execution_count": null,
      "outputs": [
        {
          "output_type": "stream",
          "name": "stdout",
          "text": [
            "2\n"
          ]
        }
      ]
    },
    {
      "cell_type": "code",
      "source": [
        "def fun(a,b=10): #if the function is called without an argument, it uses the default value\n",
        "  print(a)\n",
        "  print(b)\n",
        "\n",
        "fun(5)"
      ],
      "metadata": {
        "colab": {
          "base_uri": "https://localhost:8080/"
        },
        "id": "P7vrDIcKkXgY",
        "outputId": "03082eb1-2acf-433a-e6dc-4b056d656324"
      },
      "execution_count": null,
      "outputs": [
        {
          "output_type": "stream",
          "name": "stdout",
          "text": [
            "5\n",
            "10\n"
          ]
        }
      ]
    },
    {
      "cell_type": "code",
      "source": [
        "def f(*args): #we use this when the number of arguments are unknown\n",
        "  for x in args:\n",
        "    print(x)\n",
        "\n",
        "f(1,2,3,4)"
      ],
      "metadata": {
        "colab": {
          "base_uri": "https://localhost:8080/"
        },
        "id": "xxHvKvdzld8a",
        "outputId": "ab24d860-4632-4779-eafa-d8839424357c"
      },
      "execution_count": null,
      "outputs": [
        {
          "output_type": "stream",
          "name": "stdout",
          "text": [
            "1\n",
            "2\n",
            "3\n",
            "4\n"
          ]
        }
      ]
    },
    {
      "cell_type": "code",
      "source": [
        "def a(fname,lname): #we use this when the number of arguments are unknown\n",
        "  print(fname,lname)\n",
        "a(lname='benett',fname='sarah')"
      ],
      "metadata": {
        "colab": {
          "base_uri": "https://localhost:8080/"
        },
        "id": "rWR0IrZFmWJf",
        "outputId": "8a090c14-0951-4dda-9b7d-f7ab0aad82e5"
      },
      "execution_count": null,
      "outputs": [
        {
          "output_type": "stream",
          "name": "stdout",
          "text": [
            "sarah benett\n"
          ]
        }
      ]
    },
    {
      "cell_type": "code",
      "source": [
        "#method 1\n",
        "def b(**kwargs): #we use this when the arguments of key:value pair is unknown\n",
        "  print(kwargs)\n",
        "b(y=2,z=3,x=1)"
      ],
      "metadata": {
        "colab": {
          "base_uri": "https://localhost:8080/"
        },
        "id": "5EUoprK-m-zB",
        "outputId": "852bfe53-f847-4de3-b8fa-09d0a506d3cb"
      },
      "execution_count": null,
      "outputs": [
        {
          "output_type": "stream",
          "name": "stdout",
          "text": [
            "{'y': 2, 'z': 3, 'x': 1}\n"
          ]
        }
      ]
    },
    {
      "cell_type": "code",
      "source": [
        "#method 2\n",
        "def c(**kwargs):\n",
        "  for key,value in kwargs.items():\n",
        "    print('key:',key,'value:',value)\n",
        "\n",
        "c(car='red',truck='black',bike='blue')"
      ],
      "metadata": {
        "colab": {
          "base_uri": "https://localhost:8080/"
        },
        "id": "07ABhfn6peHL",
        "outputId": "1937ba69-905f-4757-9713-f80f64ca4d87"
      },
      "execution_count": null,
      "outputs": [
        {
          "output_type": "stream",
          "name": "stdout",
          "text": [
            "key: car value: red\n",
            "key: truck value: black\n",
            "key: bike value: blue\n"
          ]
        }
      ]
    },
    {
      "cell_type": "code",
      "source": [
        "def rec(k):\n",
        "  if(k>0):\n",
        "    return k+rec(k-1)\n",
        "  else:\n",
        "    return 0\n",
        "\n",
        "x=rec(6)\n",
        "print(x)"
      ],
      "metadata": {
        "colab": {
          "base_uri": "https://localhost:8080/"
        },
        "id": "H4gmnockn73-",
        "outputId": "7aca9134-b13f-4068-e4cb-ccc13a82a774"
      },
      "execution_count": null,
      "outputs": [
        {
          "output_type": "stream",
          "name": "stdout",
          "text": [
            "21\n"
          ]
        }
      ]
    },
    {
      "cell_type": "code",
      "source": [
        "x=lambda a: a+10 #lambda function is uesd to qrite a function in a single line. It can take n arguments but has only one expression.\n",
        "print(x(5))"
      ],
      "metadata": {
        "colab": {
          "base_uri": "https://localhost:8080/"
        },
        "id": "rY6QYSqfoj2S",
        "outputId": "d04275b7-fa87-4c14-9c19-c062416d693c"
      },
      "execution_count": null,
      "outputs": [
        {
          "output_type": "stream",
          "name": "stdout",
          "text": [
            "15\n"
          ]
        }
      ]
    },
    {
      "cell_type": "code",
      "source": [
        "def mfn(n): #lambda can be used inside another function\n",
        "  return lambda a:a*n\n",
        "\n",
        "db=mfn(2)\n",
        "tr=mfn(3)\n",
        "print(db(11))\n",
        "print(tr(11))"
      ],
      "metadata": {
        "colab": {
          "base_uri": "https://localhost:8080/"
        },
        "id": "_zwrymOHqpVJ",
        "outputId": "705f7ff0-ec55-4504-a2fa-9ec8d44fc234"
      },
      "execution_count": null,
      "outputs": [
        {
          "output_type": "stream",
          "name": "stdout",
          "text": [
            "22\n",
            "33\n"
          ]
        }
      ]
    },
    {
      "cell_type": "code",
      "source": [
        "x=lambda n:'even' if n%2==0 else 'odd'\n",
        "x(10)"
      ],
      "metadata": {
        "colab": {
          "base_uri": "https://localhost:8080/",
          "height": 36
        },
        "id": "kIwD0x0RsZUo",
        "outputId": "3dfe69b6-3a6b-4dce-97df-c559940ba80c"
      },
      "execution_count": null,
      "outputs": [
        {
          "output_type": "execute_result",
          "data": {
            "text/plain": [
              "'even'"
            ],
            "application/vnd.google.colaboratory.intrinsic+json": {
              "type": "string"
            }
          },
          "metadata": {},
          "execution_count": 81
        }
      ]
    },
    {
      "cell_type": "code",
      "source": [
        "a=10 #global variable\n",
        "def b():\n",
        "  c=5 #local variable - it's scope is only inside the function its defined in\n",
        "  print(c)\n",
        "\n",
        "b()\n",
        "print(a)"
      ],
      "metadata": {
        "colab": {
          "base_uri": "https://localhost:8080/"
        },
        "id": "ObXbTNSotDqt",
        "outputId": "272a9bde-b309-4513-f99b-b9cc2dbb44f5"
      },
      "execution_count": null,
      "outputs": [
        {
          "output_type": "stream",
          "name": "stdout",
          "text": [
            "5\n",
            "10\n"
          ]
        }
      ]
    },
    {
      "cell_type": "code",
      "source": [
        "x=10\n",
        "def y():\n",
        "  global x\n",
        "  x+=5\n",
        "  print(x)\n",
        "y()\n",
        "print(x)"
      ],
      "metadata": {
        "colab": {
          "base_uri": "https://localhost:8080/"
        },
        "id": "2piDlo4Btdel",
        "outputId": "a4db33b1-59bb-4f78-9c53-d07ec00176b7"
      },
      "execution_count": null,
      "outputs": [
        {
          "output_type": "stream",
          "name": "stdout",
          "text": [
            "15\n",
            "15\n"
          ]
        }
      ]
    },
    {
      "cell_type": "code",
      "source": [
        "def f(arg,*args):\n",
        "  print(arg)\n",
        "  for i in args:\n",
        "    print(i)\n",
        "\n",
        "f(1,2,3,4)"
      ],
      "metadata": {
        "colab": {
          "base_uri": "https://localhost:8080/"
        },
        "id": "o5bifVyDujA0",
        "outputId": "e4278623-1d5e-465c-f3e9-c4202db71bba"
      },
      "execution_count": null,
      "outputs": [
        {
          "output_type": "stream",
          "name": "stdout",
          "text": [
            "1\n",
            "2\n",
            "3\n",
            "4\n"
          ]
        }
      ]
    },
    {
      "cell_type": "code",
      "source": [
        "def fn(*args,**kwargs):\n",
        "  for i in args:\n",
        "    print(i)\n",
        "  for x,y in kwargs.items():\n",
        "    print(x,y)\n",
        "\n",
        "fn('abc','xyz','lmn',a=1,b=2,c=3)"
      ],
      "metadata": {
        "colab": {
          "base_uri": "https://localhost:8080/"
        },
        "id": "rHE_06O5vO1k",
        "outputId": "ad8473d5-96cd-48fc-e453-938ddeecc21e"
      },
      "execution_count": 1,
      "outputs": [
        {
          "output_type": "stream",
          "name": "stdout",
          "text": [
            "abc\n",
            "xyz\n",
            "lmn\n",
            "a 1\n",
            "b 2\n",
            "c 3\n"
          ]
        }
      ]
    },
    {
      "cell_type": "code",
      "source": [
        "class Person:\n",
        "  def __init__(self,name,age):  #kind of like a constructor. You always need to write self when you define a function inside a constructor.\n",
        "    self.name = name\n",
        "    self.age = age\n",
        "\n",
        "p1=Person('Dan',25) #p1 is the object of class person\n",
        "\n",
        "print(p1.name)\n",
        "print(p1.age)\n",
        "print(p1) #prints memory address of the object"
      ],
      "metadata": {
        "colab": {
          "base_uri": "https://localhost:8080/"
        },
        "id": "pUfgHoH4pdsF",
        "outputId": "ccf7889f-197e-4e44-c549-0731f3803b81"
      },
      "execution_count": 10,
      "outputs": [
        {
          "output_type": "stream",
          "name": "stdout",
          "text": [
            "Dan\n",
            "25\n",
            "<__main__.Person object at 0x7a929734b6a0>\n"
          ]
        }
      ]
    },
    {
      "cell_type": "code",
      "source": [
        "class Person:\n",
        "  def __init__(self,name,age):\n",
        "    self.name = name\n",
        "    self.age = age\n",
        "\n",
        "  def __str__(self) : #returns a readable string form of an object for the user\n",
        "    return f'{self.name} {self.age}'\n",
        "\n",
        "p1=Person('Dan',25)\n",
        "\n",
        "print(p1) #prints string representation of the object"
      ],
      "metadata": {
        "colab": {
          "base_uri": "https://localhost:8080/"
        },
        "id": "9WsFFXm8rqBn",
        "outputId": "f0ceb75c-3f30-42cb-c7fb-9ba2d8842b87"
      },
      "execution_count": 14,
      "outputs": [
        {
          "output_type": "stream",
          "name": "stdout",
          "text": [
            "Dan 25\n"
          ]
        }
      ]
    },
    {
      "cell_type": "code",
      "source": [
        "class Person:\n",
        "  def __init__(self,name,age):  #self is very similar to this keyword\n",
        "    self.name = name\n",
        "    self.age = age\n",
        "\n",
        "  def __repr__(self) : #returns a readable string form of an object for the mchine\n",
        "    return f'{self.name} {self.age}'\n",
        "\n",
        "p1=Person('Dan',25)\n",
        "\n",
        "print(p1)"
      ],
      "metadata": {
        "colab": {
          "base_uri": "https://localhost:8080/"
        },
        "id": "bUOYCwAaudw3",
        "outputId": "16cffcc8-1246-4e62-bcec-06e0c20f9803"
      },
      "execution_count": 17,
      "outputs": [
        {
          "output_type": "stream",
          "name": "stdout",
          "text": [
            "Dan 25\n"
          ]
        }
      ]
    },
    {
      "cell_type": "code",
      "source": [
        "class Person:\n",
        "  def __init__(self,name,age):\n",
        "    self.name = name\n",
        "    self.age = age\n",
        "\n",
        "  def fun(self):\n",
        "    print('hello',self.name)\n",
        "\n",
        "p1=Person('Dan',25)\n",
        "print(p1.age)\n",
        "p1.fun()\n",
        "p1.age = 30 #modifying object properties\n",
        "print(p1.age)"
      ],
      "metadata": {
        "colab": {
          "base_uri": "https://localhost:8080/"
        },
        "id": "L0OjfaeKvZVn",
        "outputId": "1d38a819-3ae1-4eda-df47-5554512258af"
      },
      "execution_count": 28,
      "outputs": [
        {
          "output_type": "stream",
          "name": "stdout",
          "text": [
            "25\n",
            "hello Dan\n",
            "30\n"
          ]
        }
      ]
    },
    {
      "cell_type": "code",
      "source": [
        "p2 = Person ('John',35)\n",
        "p1.fun()\n",
        "p2.fun()\n",
        "\n",
        "del p1\n",
        "#p1.fun() we get an error since we have deleted the object p1\n",
        "p2.fun()"
      ],
      "metadata": {
        "colab": {
          "base_uri": "https://localhost:8080/"
        },
        "id": "jQZ0Umj0wTVy",
        "outputId": "1dd8d47b-3e17-40aa-b3fb-a025bc53aa45"
      },
      "execution_count": 29,
      "outputs": [
        {
          "output_type": "stream",
          "name": "stdout",
          "text": [
            "hello Dan\n",
            "hello John\n",
            "hello John\n"
          ]
        }
      ]
    },
    {
      "cell_type": "code",
      "source": [
        "class abc:\n",
        "  pass #class definition with no content"
      ],
      "metadata": {
        "id": "pIOdCi-HwsQw"
      },
      "execution_count": 30,
      "outputs": []
    },
    {
      "cell_type": "code",
      "source": [
        "#inheritance: inhertig the methods and attributes from a parent class\n",
        "class Person:                  #single inheritance\n",
        "  def __init__(self,name,age):\n",
        "    self.name = name\n",
        "    self.age = age\n",
        "\n",
        "  def fun(self):\n",
        "    print('hello',self.name)\n",
        "\n",
        "class Child(Person):\n",
        "  pass\n",
        "\n",
        "p2=Child('Child',20)\n",
        "p2.fun()"
      ],
      "metadata": {
        "colab": {
          "base_uri": "https://localhost:8080/"
        },
        "id": "k30K9A-vxAvM",
        "outputId": "a4545d0e-921c-4973-eb32-e9c07edf81bf"
      },
      "execution_count": 34,
      "outputs": [
        {
          "output_type": "stream",
          "name": "stdout",
          "text": [
            "hello Child\n"
          ]
        }
      ]
    },
    {
      "cell_type": "code",
      "source": [
        "class Person:                  #single inheritance\n",
        "  def __init__(self,name,age):\n",
        "    self.name = name\n",
        "    self.age = age\n",
        "\n",
        "  def fun(self):\n",
        "    print('hello',self.name)\n",
        "\n",
        "class Child(Person):    #method overriding\n",
        "  def __init__(self,college,fruit):\n",
        "    self.college = college\n",
        "    self.fruit = fruit\n",
        "\n",
        "p2=Child('DJ','apple')\n",
        "print(p2.college,p2.fruit)"
      ],
      "metadata": {
        "colab": {
          "base_uri": "https://localhost:8080/"
        },
        "id": "2vmQb0Atx8IR",
        "outputId": "e218a5fd-e097-45d5-9a0b-944dfe88e12e"
      },
      "execution_count": 37,
      "outputs": [
        {
          "output_type": "stream",
          "name": "stdout",
          "text": [
            "DJ apple\n"
          ]
        }
      ]
    },
    {
      "cell_type": "code",
      "source": [
        "class Person:                  #single inheritance\n",
        "  def __init__(self,name,age):\n",
        "    self.name = name\n",
        "    self.age = age\n",
        "\n",
        "  def fun(self):\n",
        "    print('hello',self.name)\n",
        "\n",
        "class Child(Person):\n",
        "  def __init__(self,college,fruit,name,age):\n",
        "    super().__init__(name,age)    #used to access the properties and methods of parent class\n",
        "    self.college = college\n",
        "    self.fruit = fruit\n",
        "\n",
        "p2=Child('DJ','apple','abc',18)\n",
        "print(p2.college,p2.fruit,p2.name,p2.age)"
      ],
      "metadata": {
        "colab": {
          "base_uri": "https://localhost:8080/"
        },
        "id": "9Xg6X8zqywIe",
        "outputId": "7ef5ecde-603c-47c6-dc02-b908216fe389"
      },
      "execution_count": 44,
      "outputs": [
        {
          "output_type": "stream",
          "name": "stdout",
          "text": [
            "DJ apple abc 18\n"
          ]
        }
      ]
    },
    {
      "cell_type": "code",
      "source": [
        "class Child(Person):\n",
        "  def __init__(self,college,fruit):\n",
        "    self.college = college\n",
        "    self.fruit = fruit\n",
        "    self.color = 'black'   #adding properties\n",
        "\n",
        "c = Child('abc','cherry')\n",
        "print(c.color)"
      ],
      "metadata": {
        "colab": {
          "base_uri": "https://localhost:8080/"
        },
        "id": "w-jAuaZm73HR",
        "outputId": "5ea43a89-917b-4d4d-fda0-5d6825c9e33e"
      },
      "execution_count": 46,
      "outputs": [
        {
          "output_type": "stream",
          "name": "stdout",
          "text": [
            "black\n"
          ]
        }
      ]
    },
    {
      "cell_type": "code",
      "source": [
        "class Parent():   #multilevel inheritance\n",
        "  def fn(self):\n",
        "    print('welcome')\n",
        "\n",
        "class Child1(Parent):\n",
        "  def funct(self):\n",
        "    print('to')\n",
        "\n",
        "class Child2(Child1):\n",
        "  def f(self):\n",
        "    print('google colab')\n",
        "\n",
        "a=Child2()\n",
        "x=a.fn()\n",
        "y=a.funct()\n",
        "z=a.f()\n",
        "print(x,y,z)"
      ],
      "metadata": {
        "colab": {
          "base_uri": "https://localhost:8080/"
        },
        "id": "he8-rpvU8oq6",
        "outputId": "242c5079-ed05-4dbb-d53f-17ae3c7500ab"
      },
      "execution_count": 52,
      "outputs": [
        {
          "output_type": "stream",
          "name": "stdout",
          "text": [
            "welcome\n",
            "to\n",
            "google colab\n",
            "None None None\n"
          ]
        }
      ]
    },
    {
      "cell_type": "code",
      "source": [
        "class Child3(Parent,Person):  #multiple inheritance\n",
        "  def myFn(self):\n",
        "    print('pqr')\n",
        "\n",
        "m=Child3('Sarah',50)\n",
        "m.myFn()  #method in child3 class\n",
        "m.fun()   #method in parent class 'Parent'\n",
        "m.fn()    #method in parent class 'Person'"
      ],
      "metadata": {
        "colab": {
          "base_uri": "https://localhost:8080/"
        },
        "id": "bG9XofZA-JVU",
        "outputId": "fd6da1cc-ca16-4f4a-cd1a-2e16fcd985bb"
      },
      "execution_count": 55,
      "outputs": [
        {
          "output_type": "stream",
          "name": "stdout",
          "text": [
            "pqr\n",
            "hello Sarah\n",
            "welcome\n"
          ]
        }
      ]
    },
    {
      "cell_type": "code",
      "source": [
        "class Sub1(Parent): #Hierarchial Inheritance\n",
        "  def func1(self):\n",
        "    li=[1,2,3,4,5]\n",
        "    print(li)\n",
        "\n",
        "class Sub2(Parent):\n",
        "  def func2(self):\n",
        "    li=['a','b','c','x','y','z']\n",
        "    print(li)\n",
        "\n",
        "a=Sub1()\n",
        "a.func1()\n",
        "b=Sub2()\n",
        "b.func2()\n",
        "\n",
        "#hybrid inheritance is a combination of two or more types of inheritance"
      ],
      "metadata": {
        "colab": {
          "base_uri": "https://localhost:8080/"
        },
        "id": "FCenjzlw_IBl",
        "outputId": "1579580c-29ea-4b98-bda3-6c8dda3d7fcf"
      },
      "execution_count": 57,
      "outputs": [
        {
          "output_type": "stream",
          "name": "stdout",
          "text": [
            "[1, 2, 3, 4, 5]\n",
            "['a', 'b', 'c', 'x', 'y', 'z']\n"
          ]
        }
      ]
    },
    {
      "cell_type": "code",
      "source": [
        "class Dog:   #polymorphsim - static: method overloading\n",
        "  def sound(self):\n",
        "    print('bark')\n",
        "\n",
        "class Cat:\n",
        "  def sound(self):\n",
        "    print('meow')\n",
        "\n",
        "d=Dog()\n",
        "d.sound()\n",
        "c=Cat()\n",
        "c.sound()"
      ],
      "metadata": {
        "colab": {
          "base_uri": "https://localhost:8080/"
        },
        "id": "c89EPZJiG_dT",
        "outputId": "eb06be54-f1b1-4047-9c8c-0c40c3efd0cc"
      },
      "execution_count": 110,
      "outputs": [
        {
          "output_type": "stream",
          "name": "stdout",
          "text": [
            "bark\n",
            "meow\n"
          ]
        }
      ]
    },
    {
      "cell_type": "code",
      "source": [
        "import datetime\n",
        "\n",
        "x=datetime.datetime.now()\n",
        "print(x)"
      ],
      "metadata": {
        "colab": {
          "base_uri": "https://localhost:8080/"
        },
        "id": "-0_BKkq8IVtq",
        "outputId": "0bb1f6f2-5c02-45d7-8a40-91dfb48e7250"
      },
      "execution_count": 62,
      "outputs": [
        {
          "output_type": "stream",
          "name": "stdout",
          "text": [
            "2023-08-14 03:43:15.867522\n"
          ]
        }
      ]
    },
    {
      "cell_type": "code",
      "source": [
        "import datetime\n",
        "\n",
        "x=datetime.datetime(2023,6,14)\n",
        "print(x,x.strftime('%A'))   #strftime: specifies the format of the returned string...e.g. %A is for weekday"
      ],
      "metadata": {
        "colab": {
          "base_uri": "https://localhost:8080/"
        },
        "id": "25CvaKvBJAWt",
        "outputId": "b0edc42f-756f-4485-c868-22d692d153cd"
      },
      "execution_count": 66,
      "outputs": [
        {
          "output_type": "stream",
          "name": "stdout",
          "text": [
            "2023-06-14 00:00:00 Wednesday\n"
          ]
        }
      ]
    },
    {
      "cell_type": "code",
      "source": [
        "colors = ['red','green','blue']\n",
        "\n",
        "try:      #checks for the execption\n",
        "  print(colors[3])\n",
        "except IndexError as e: #handles the exception\n",
        "  print(e)"
      ],
      "metadata": {
        "colab": {
          "base_uri": "https://localhost:8080/"
        },
        "id": "frUWeqJQJ78p",
        "outputId": "15d6e8bd-ffff-4fe1-dd92-02fb327fbc15"
      },
      "execution_count": 68,
      "outputs": [
        {
          "output_type": "stream",
          "name": "stdout",
          "text": [
            "list index out of range\n"
          ]
        }
      ]
    },
    {
      "cell_type": "code",
      "source": [
        "def div(a,b):\n",
        "  try:\n",
        "    a/b\n",
        "  except TypeError as e:\n",
        "    print('enter numeric values')\n",
        "  except ZeroDivisionError as e:\n",
        "    print('b cannot be zero')\n",
        "  else:                #executed when there is no exception\n",
        "    print(a/b)\n",
        "  finally:             #always executed whether the exception occured or not\n",
        "    print('continue')\n",
        "\n",
        "\n",
        "div(10,5)\n"
      ],
      "metadata": {
        "colab": {
          "base_uri": "https://localhost:8080/"
        },
        "id": "LHbztBGWMcSx",
        "outputId": "7202e0ef-4739-4ebd-8d27-760b5759514a"
      },
      "execution_count": 81,
      "outputs": [
        {
          "output_type": "stream",
          "name": "stdout",
          "text": [
            "2.0\n",
            "continue\n"
          ]
        }
      ]
    },
    {
      "cell_type": "code",
      "source": [
        "div(10,0)\n"
      ],
      "metadata": {
        "colab": {
          "base_uri": "https://localhost:8080/"
        },
        "id": "OaIz7aG-Mmji",
        "outputId": "e1d447fa-9d9f-4cda-9f40-3b22e9c5c22c"
      },
      "execution_count": 78,
      "outputs": [
        {
          "output_type": "stream",
          "name": "stdout",
          "text": [
            "b cannot be zero\n",
            "continue\n"
          ]
        }
      ]
    },
    {
      "cell_type": "code",
      "source": [
        "div('a',4)\n"
      ],
      "metadata": {
        "colab": {
          "base_uri": "https://localhost:8080/"
        },
        "id": "1XcHtNGENWl_",
        "outputId": "81800246-72e8-4182-d492-f0578fbca007"
      },
      "execution_count": 77,
      "outputs": [
        {
          "output_type": "stream",
          "name": "stdout",
          "text": [
            "enter numeric values\n",
            "continue\n"
          ]
        }
      ]
    },
    {
      "cell_type": "code",
      "source": [
        "class FahrenheitError(Exception):  #user-defined exception\n",
        "\n",
        "  def __init__(self,f):\n",
        "    self.f=f\n",
        "\n",
        "  def __str__(self):\n",
        "    return f\"{self.f} is not in the valid range (32,212)\"\n",
        "\n",
        "try:\n",
        "  temp=50\n",
        "  if temp<32 and temp>212:\n",
        "    raise FahrenheitError(temp)\n",
        "  else:\n",
        "    print('okay')\n",
        "except FahrenheitError as e:\n",
        "  print(e)\n",
        "\n"
      ],
      "metadata": {
        "colab": {
          "base_uri": "https://localhost:8080/"
        },
        "id": "8c8yAs6fNrA1",
        "outputId": "aa823cc4-ed24-4d78-af87-dfea0c6bd25a"
      },
      "execution_count": 104,
      "outputs": [
        {
          "output_type": "stream",
          "name": "stdout",
          "text": [
            "okay\n"
          ]
        }
      ]
    },
    {
      "cell_type": "code",
      "source": [
        "try:\n",
        "  t=500\n",
        "  if t<32 and t>212:\n",
        "    raise FahrenheitError(t)\n",
        "  else:\n",
        "    print('okay')\n",
        "except FahrenheitError as e:\n",
        "  print(e)"
      ],
      "metadata": {
        "colab": {
          "base_uri": "https://localhost:8080/"
        },
        "id": "tYF8k6qOV7F5",
        "outputId": "5a33e3f7-6b29-4fae-d62a-ddad965fd69f"
      },
      "execution_count": 105,
      "outputs": [
        {
          "output_type": "stream",
          "name": "stdout",
          "text": [
            "okay\n"
          ]
        }
      ]
    },
    {
      "cell_type": "code",
      "source": [
        "import time\n",
        "import math\n",
        "\n",
        "def calc_time(fun):\n",
        "  def inner(*args,**kwargs): #since we don't know the input type and number of parameters entered by the user\n",
        "    begin=time.time()\n",
        "    fun(*args,**kwargs)\n",
        "    end=time.time()\n",
        "    print('time:',end-begin)\n",
        "\n",
        "  return inner\n",
        "\n",
        "@calc_time   #decorator:helps in adding new functionality without modifying the source code. can be called from a different file altogether, so helps in organizing.\n",
        "def fact(num):\n",
        "  time.sleep(2)\n",
        "  print(math.factorial(num))\n",
        "\n",
        "fact(5)"
      ],
      "metadata": {
        "colab": {
          "base_uri": "https://localhost:8080/"
        },
        "id": "o11CW9AxW88e",
        "outputId": "337f8e85-5b29-4e93-e905-8fa39742439b"
      },
      "execution_count": 109,
      "outputs": [
        {
          "output_type": "stream",
          "name": "stdout",
          "text": [
            "120\n",
            "time: 2.004070281982422\n"
          ]
        }
      ]
    },
    {
      "cell_type": "code",
      "source": [
        "#access specifiers: private, protected, public\n",
        "class Base:\n",
        "  def f1(self):\n",
        "    self.a=2\n",
        "    print(self.a)\n",
        "\n",
        "  def __display(self): #private; as declared with '__'\n",
        "    print(self.a)\n",
        "\n",
        "b=Base()\n",
        "b.f1()\n",
        "#b.__display() we get this error since '__display is a private property and cannot be accessed outside the class'\n",
        ""
      ],
      "metadata": {
        "colab": {
          "base_uri": "https://localhost:8080/"
        },
        "id": "DLQYImEcaX1d",
        "outputId": "4a65e2ce-8a85-40a1-f33f-18c23b691020"
      },
      "execution_count": 115,
      "outputs": [
        {
          "output_type": "stream",
          "name": "stdout",
          "text": [
            "2\n"
          ]
        }
      ]
    },
    {
      "cell_type": "code",
      "source": [
        "class Base:\n",
        "  def f1(self):\n",
        "    self.__a=2\n",
        "    print(self.__a) #private variable\n",
        "\n",
        "  def display(self):\n",
        "    print(self.__a)\n",
        "\n",
        "z=Base()\n",
        "z.f1()\n",
        "z.display() #works, since the private variable is accessed within the class"
      ],
      "metadata": {
        "colab": {
          "base_uri": "https://localhost:8080/"
        },
        "id": "H7pb5DklcxwB",
        "outputId": "79688005-6b0a-4d6c-a6e6-88fa0eaaa8bc"
      },
      "execution_count": 118,
      "outputs": [
        {
          "output_type": "stream",
          "name": "stdout",
          "text": [
            "2\n",
            "2\n"
          ]
        }
      ]
    },
    {
      "cell_type": "code",
      "source": [
        "class Base1:\n",
        "  def fn1(self,name):\n",
        "    self._name=name  #protected variable\n",
        "\n",
        "class Child4(Base1):\n",
        "  def fn1(self,name):\n",
        "    super().fn1(name)\n",
        "\n",
        "  def disp(self):\n",
        "    print(self._name)  #works, since protected variable can be accessed by the derived class\n",
        "\n",
        "q=Child4()\n",
        "q.fn1('john')\n",
        "q.disp()\n",
        "\n",
        "#difference between protected and private: protected attributes and variables can be accessed by derived classses whereas private cannot."
      ],
      "metadata": {
        "colab": {
          "base_uri": "https://localhost:8080/"
        },
        "id": "_qmJoKbPdO45",
        "outputId": "4649782e-3d2f-4efa-8452-ab0250850158"
      },
      "execution_count": 125,
      "outputs": [
        {
          "output_type": "stream",
          "name": "stdout",
          "text": [
            "john\n"
          ]
        }
      ]
    },
    {
      "cell_type": "code",
      "source": [
        "s1='hello'\n",
        "s2=' world'\n",
        "s=s1+s2\n",
        "s"
      ],
      "metadata": {
        "colab": {
          "base_uri": "https://localhost:8080/",
          "height": 36
        },
        "id": "K6Hk_Yv1eup4",
        "outputId": "ea1f6cde-6f73-4ac3-9720-ffa47d308eb0"
      },
      "execution_count": 132,
      "outputs": [
        {
          "output_type": "execute_result",
          "data": {
            "text/plain": [
              "'hello world'"
            ],
            "application/vnd.google.colaboratory.intrinsic+json": {
              "type": "string"
            }
          },
          "metadata": {},
          "execution_count": 132
        }
      ]
    },
    {
      "cell_type": "code",
      "source": [
        "s1=s1 * 3\n",
        "s1"
      ],
      "metadata": {
        "colab": {
          "base_uri": "https://localhost:8080/",
          "height": 36
        },
        "id": "KS6lOYMWe--M",
        "outputId": "38b62560-54c6-4156-cbb2-40ccbd359f66"
      },
      "execution_count": 134,
      "outputs": [
        {
          "output_type": "execute_result",
          "data": {
            "text/plain": [
              "'hellohellohellohellohellohellohellohellohello'"
            ],
            "application/vnd.google.colaboratory.intrinsic+json": {
              "type": "string"
            }
          },
          "metadata": {},
          "execution_count": 134
        }
      ]
    },
    {
      "cell_type": "code",
      "source": [
        "l1=[1,2,3,4]\n",
        "l2=[5,6,7,8]\n",
        "l=l1+l2\n",
        "l"
      ],
      "metadata": {
        "colab": {
          "base_uri": "https://localhost:8080/"
        },
        "id": "j-bEKOVQfhwT",
        "outputId": "85ba93fd-b55f-4edf-aa23-6ec18cf71d61"
      },
      "execution_count": 136,
      "outputs": [
        {
          "output_type": "execute_result",
          "data": {
            "text/plain": [
              "[1, 2, 3, 4, 5, 6, 7, 8]"
            ]
          },
          "metadata": {},
          "execution_count": 136
        }
      ]
    },
    {
      "cell_type": "code",
      "source": [
        "l1.append(l2)\n",
        "l1"
      ],
      "metadata": {
        "colab": {
          "base_uri": "https://localhost:8080/"
        },
        "id": "I9wF9-_Bfoeb",
        "outputId": "0cd5cb6b-823c-4204-cd43-f53d920e5ede"
      },
      "execution_count": 138,
      "outputs": [
        {
          "output_type": "execute_result",
          "data": {
            "text/plain": [
              "[1, 2, 3, 4, [5, 6, 7, 8], [5, 6, 7, 8]]"
            ]
          },
          "metadata": {},
          "execution_count": 138
        }
      ]
    },
    {
      "cell_type": "code",
      "source": [
        "t1=('a','b','c','d') #tuples\n",
        "t2 = (1,2,3)\n",
        "t=t1+t2\n",
        "t"
      ],
      "metadata": {
        "colab": {
          "base_uri": "https://localhost:8080/"
        },
        "id": "nRlAAbRAfsJ5",
        "outputId": "f26b4606-5e19-46c8-9129-6ef38db107fc"
      },
      "execution_count": 140,
      "outputs": [
        {
          "output_type": "execute_result",
          "data": {
            "text/plain": [
              "('a', 'b', 'c', 'd', 1, 2, 3)"
            ]
          },
          "metadata": {},
          "execution_count": 140
        }
      ]
    },
    {
      "cell_type": "code",
      "source": [
        "i=input(\"enter a number\")\n",
        "type(i)"
      ],
      "metadata": {
        "colab": {
          "base_uri": "https://localhost:8080/"
        },
        "id": "SFzE5Kskf8rO",
        "outputId": "1581ef7e-ba53-4931-be1a-848d9dff40f4"
      },
      "execution_count": 142,
      "outputs": [
        {
          "name": "stdout",
          "output_type": "stream",
          "text": [
            "enter a number3\n"
          ]
        },
        {
          "output_type": "execute_result",
          "data": {
            "text/plain": [
              "str"
            ]
          },
          "metadata": {},
          "execution_count": 142
        }
      ]
    },
    {
      "cell_type": "code",
      "source": [
        "i=int(input(\"enter a number\"))\n",
        "type(i)"
      ],
      "metadata": {
        "colab": {
          "base_uri": "https://localhost:8080/"
        },
        "id": "N77wTm44gE_H",
        "outputId": "964b90f9-aae3-490e-e854-852f74308cbd"
      },
      "execution_count": 144,
      "outputs": [
        {
          "name": "stdout",
          "output_type": "stream",
          "text": [
            "enter a number5\n"
          ]
        },
        {
          "output_type": "execute_result",
          "data": {
            "text/plain": [
              "int"
            ]
          },
          "metadata": {},
          "execution_count": 144
        }
      ]
    },
    {
      "cell_type": "code",
      "source": [
        "z=bin(14)  #gives the binary value\n",
        "z"
      ],
      "metadata": {
        "colab": {
          "base_uri": "https://localhost:8080/",
          "height": 36
        },
        "id": "x2Fnl4lvgQWZ",
        "outputId": "962b9ec7-5f95-4856-e29b-0ecb858d762d"
      },
      "execution_count": 147,
      "outputs": [
        {
          "output_type": "execute_result",
          "data": {
            "text/plain": [
              "'0b1110'"
            ],
            "application/vnd.google.colaboratory.intrinsic+json": {
              "type": "string"
            }
          },
          "metadata": {},
          "execution_count": 147
        }
      ]
    }
  ]
}